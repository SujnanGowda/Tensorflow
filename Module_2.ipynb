{
  "nbformat": 4,
  "nbformat_minor": 0,
  "metadata": {
    "colab": {
      "name": "Module 2",
      "provenance": [],
      "toc_visible": true,
      "authorship_tag": "ABX9TyNv7VZWcgPXNlGG4CFBTf6x",
      "include_colab_link": true
    },
    "kernelspec": {
      "name": "python3",
      "display_name": "Python 3"
    }
  },
  "cells": [
    {
      "cell_type": "markdown",
      "metadata": {
        "id": "view-in-github",
        "colab_type": "text"
      },
      "source": [
        "<a href=\"https://colab.research.google.com/github/SujnanGowda/Tensorflow/blob/main/Module_2.ipynb\" target=\"_parent\"><img src=\"https://colab.research.google.com/assets/colab-badge.svg\" alt=\"Open In Colab\"/></a>"
      ]
    },
    {
      "cell_type": "code",
      "metadata": {
        "id": "P5oATHcFPUjM"
      },
      "source": [
        "%tensorflow_version 2.x\n",
        "import tensorflow as tf\n",
        "\n",
        "t1=tf.Variable(\"First command\",tf.string)\n",
        "t2=tf.Variable(336,tf.int32)\n",
        "t3=tf.Variable([\"One\",\"Two\"],tf.string)\n",
        "t4=tf.Variable([[1,2],[3,4],[5,6]],tf.string)\n",
        "tf.rank(t4)\n"
      ],
      "execution_count": null,
      "outputs": []
    },
    {
      "cell_type": "markdown",
      "metadata": {
        "id": "-cnwRywybRxb"
      },
      "source": [
        "Rank gives output as numpy on what dimension depending on the array formation\n"
      ]
    },
    {
      "cell_type": "code",
      "metadata": {
        "id": "MIAm8Fm0V1G6"
      },
      "source": [
        "t4.shape"
      ],
      "execution_count": null,
      "outputs": []
    },
    {
      "cell_type": "code",
      "metadata": {
        "id": "bUkdHDNqbs-a"
      },
      "source": [
        "tf5=tf.ones([5,5,5])\n",
        "print(tf5)"
      ],
      "execution_count": null,
      "outputs": []
    },
    {
      "cell_type": "code",
      "metadata": {
        "id": "Bc6saDdlbs8g"
      },
      "source": [
        "tf5=tf.reshape(tf5,[125])\n",
        "print(tf5)"
      ],
      "execution_count": null,
      "outputs": []
    }
  ]
}